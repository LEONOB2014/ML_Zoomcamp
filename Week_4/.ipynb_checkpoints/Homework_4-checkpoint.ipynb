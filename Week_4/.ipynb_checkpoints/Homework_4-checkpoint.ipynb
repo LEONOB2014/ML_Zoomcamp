{
 "cells": [
  {
   "cell_type": "markdown",
   "id": "32a8c5da-0528-4445-a958-e86f4adb875e",
   "metadata": {},
   "source": [
    "# Homework Week 4 ML-Zoomcamp\n",
    "Note: sometimes your answer doesn't match one of the options exactly. That's fine. Select the option that's closest to your solution."
   ]
  },
  {
   "cell_type": "code",
   "execution_count": 142,
   "id": "73ef84e7-5390-4d6c-8a85-4b5b6cffa53f",
   "metadata": {},
   "outputs": [],
   "source": [
    "import pandas as pd\n",
    "import matplotlib.pyplot as plt\n",
    "import seaborn as sns\n",
    "import numpy as np\n",
    "from sklearn.model_selection import train_test_split\n",
    "from sklearn.metrics import mutual_info_score\n",
    "from sklearn.feature_extraction import DictVectorizer\n",
    "from sklearn.linear_model import LogisticRegression\n",
    "from sklearn.metrics import accuracy_score\n",
    "from sklearn.linear_model import Ridge\n",
    "from sklearn.metrics import mean_squared_error\n",
    "from sklearn.metrics import roc_auc_score\n",
    "from sklearn.metrics import roc_curve\n",
    "from sklearn.model_selection import KFold\n",
    "\n",
    "%matplotlib inline\n",
    "plt.style.use('ggplot')\n",
    "\n",
    "import warnings\n",
    "warnings.filterwarnings('ignore')"
   ]
  },
  {
   "cell_type": "markdown",
   "id": "47323d6c-37ff-485b-b89f-dbe1beef8532",
   "metadata": {},
   "source": [
    "## **Dataset**  \n",
    "In this homework, we will use Credit Card Data from book \"Econometric Analysis\".\n",
    "\n",
    "Here's a wget-able link:\n",
    "\n",
    "```python\n",
    "wget https://raw.githubusercontent.com/alexeygrigorev/datasets/master/AER_credit_card_data.csv\n",
    "```\n",
    "\n",
    "The goal of this homework is to inspect the output of different evaluation metrics by creating a classification model (target column card).\n",
    "\n"
   ]
  },
  {
   "cell_type": "code",
   "execution_count": 8,
   "id": "4c1fff6e-0a30-4392-aaba-2b6444c528de",
   "metadata": {},
   "outputs": [
    {
     "name": "stdout",
     "output_type": "stream",
     "text": [
      "--2022-10-05 20:03:06--  https://raw.githubusercontent.com/alexeygrigorev/datasets/master/AER_credit_card_data.csv\n",
      "Resolving raw.githubusercontent.com (raw.githubusercontent.com)... 2606:50c0:8002::154, 2606:50c0:8003::154, 2606:50c0:8000::154, ...\n",
      "Connecting to raw.githubusercontent.com (raw.githubusercontent.com)|2606:50c0:8002::154|:443... connected.\n",
      "HTTP request sent, awaiting response... 200 OK\n",
      "Length: 73250 (72K) [text/plain]\n",
      "Saving to: ‘data/AER_credit_card_data.csv’\n",
      "\n",
      "data/AER_credit_car 100%[===================>]  71,53K  --.-KB/s    in 0,02s   \n",
      "\n",
      "2022-10-05 20:03:06 (3,42 MB/s) - ‘data/AER_credit_card_data.csv’ saved [73250/73250]\n",
      "\n"
     ]
    }
   ],
   "source": [
    "!wget https://raw.githubusercontent.com/alexeygrigorev/datasets/master/AER_credit_card_data.csv -O data/AER_credit_card_data.csv"
   ]
  },
  {
   "cell_type": "markdown",
   "id": "97de0331-8ae5-42e9-91a0-4ad89064da5b",
   "metadata": {},
   "source": [
    "## **Preparation**  \n",
    "Create the target variable by mapping yes to 1 and no to 0.\n"
   ]
  },
  {
   "cell_type": "code",
   "execution_count": 17,
   "id": "91bebaef-0fda-4dc5-90c8-9452f985e810",
   "metadata": {},
   "outputs": [
    {
     "data": {
      "text/html": [
       "<div>\n",
       "<style scoped>\n",
       "    .dataframe tbody tr th:only-of-type {\n",
       "        vertical-align: middle;\n",
       "    }\n",
       "\n",
       "    .dataframe tbody tr th {\n",
       "        vertical-align: top;\n",
       "    }\n",
       "\n",
       "    .dataframe thead th {\n",
       "        text-align: right;\n",
       "    }\n",
       "</style>\n",
       "<table border=\"1\" class=\"dataframe\">\n",
       "  <thead>\n",
       "    <tr style=\"text-align: right;\">\n",
       "      <th></th>\n",
       "      <th>card</th>\n",
       "      <th>reports</th>\n",
       "      <th>age</th>\n",
       "      <th>income</th>\n",
       "      <th>share</th>\n",
       "      <th>expenditure</th>\n",
       "      <th>owner</th>\n",
       "      <th>selfemp</th>\n",
       "      <th>dependents</th>\n",
       "      <th>months</th>\n",
       "      <th>majorcards</th>\n",
       "      <th>active</th>\n",
       "    </tr>\n",
       "  </thead>\n",
       "  <tbody>\n",
       "    <tr>\n",
       "      <th>0</th>\n",
       "      <td>yes</td>\n",
       "      <td>0</td>\n",
       "      <td>37.66667</td>\n",
       "      <td>4.5200</td>\n",
       "      <td>0.033270</td>\n",
       "      <td>124.983300</td>\n",
       "      <td>yes</td>\n",
       "      <td>no</td>\n",
       "      <td>3</td>\n",
       "      <td>54</td>\n",
       "      <td>1</td>\n",
       "      <td>12</td>\n",
       "    </tr>\n",
       "    <tr>\n",
       "      <th>1</th>\n",
       "      <td>yes</td>\n",
       "      <td>0</td>\n",
       "      <td>33.25000</td>\n",
       "      <td>2.4200</td>\n",
       "      <td>0.005217</td>\n",
       "      <td>9.854167</td>\n",
       "      <td>no</td>\n",
       "      <td>no</td>\n",
       "      <td>3</td>\n",
       "      <td>34</td>\n",
       "      <td>1</td>\n",
       "      <td>13</td>\n",
       "    </tr>\n",
       "    <tr>\n",
       "      <th>2</th>\n",
       "      <td>yes</td>\n",
       "      <td>0</td>\n",
       "      <td>33.66667</td>\n",
       "      <td>4.5000</td>\n",
       "      <td>0.004156</td>\n",
       "      <td>15.000000</td>\n",
       "      <td>yes</td>\n",
       "      <td>no</td>\n",
       "      <td>4</td>\n",
       "      <td>58</td>\n",
       "      <td>1</td>\n",
       "      <td>5</td>\n",
       "    </tr>\n",
       "    <tr>\n",
       "      <th>3</th>\n",
       "      <td>yes</td>\n",
       "      <td>0</td>\n",
       "      <td>30.50000</td>\n",
       "      <td>2.5400</td>\n",
       "      <td>0.065214</td>\n",
       "      <td>137.869200</td>\n",
       "      <td>no</td>\n",
       "      <td>no</td>\n",
       "      <td>0</td>\n",
       "      <td>25</td>\n",
       "      <td>1</td>\n",
       "      <td>7</td>\n",
       "    </tr>\n",
       "    <tr>\n",
       "      <th>4</th>\n",
       "      <td>yes</td>\n",
       "      <td>0</td>\n",
       "      <td>32.16667</td>\n",
       "      <td>9.7867</td>\n",
       "      <td>0.067051</td>\n",
       "      <td>546.503300</td>\n",
       "      <td>yes</td>\n",
       "      <td>no</td>\n",
       "      <td>2</td>\n",
       "      <td>64</td>\n",
       "      <td>1</td>\n",
       "      <td>5</td>\n",
       "    </tr>\n",
       "  </tbody>\n",
       "</table>\n",
       "</div>"
      ],
      "text/plain": [
       "  card  reports       age  income     share  expenditure owner selfemp  \\\n",
       "0  yes        0  37.66667  4.5200  0.033270   124.983300   yes      no   \n",
       "1  yes        0  33.25000  2.4200  0.005217     9.854167    no      no   \n",
       "2  yes        0  33.66667  4.5000  0.004156    15.000000   yes      no   \n",
       "3  yes        0  30.50000  2.5400  0.065214   137.869200    no      no   \n",
       "4  yes        0  32.16667  9.7867  0.067051   546.503300   yes      no   \n",
       "\n",
       "   dependents  months  majorcards  active  \n",
       "0           3      54           1      12  \n",
       "1           3      34           1      13  \n",
       "2           4      58           1       5  \n",
       "3           0      25           1       7  \n",
       "4           2      64           1       5  "
      ]
     },
     "execution_count": 17,
     "metadata": {},
     "output_type": "execute_result"
    }
   ],
   "source": [
    "df = pd.read_csv('data/AER_credit_card_data.csv')\n",
    "df.head()"
   ]
  },
  {
   "cell_type": "code",
   "execution_count": 18,
   "id": "f03da029-647f-4ace-bdcb-f345f32508c9",
   "metadata": {},
   "outputs": [
    {
     "data": {
      "text/plain": [
       "Index(['card', 'reports', 'age', 'income', 'share', 'expenditure', 'owner',\n",
       "       'selfemp', 'dependents', 'months', 'majorcards', 'active'],\n",
       "      dtype='object')"
      ]
     },
     "execution_count": 18,
     "metadata": {},
     "output_type": "execute_result"
    }
   ],
   "source": [
    "df.columns"
   ]
  },
  {
   "cell_type": "code",
   "execution_count": 16,
   "id": "5a9d7d3a-2550-4149-843f-41aba31e97d8",
   "metadata": {},
   "outputs": [],
   "source": [
    "card_values = {\n",
    "    1: 'yes',\n",
    "    0: 'no'\n",
    "}\n",
    "\n",
    "df.card = df.card.map(card_values)"
   ]
  },
  {
   "cell_type": "code",
   "execution_count": 20,
   "id": "9ce55210-9f6d-4dad-b641-6c60865e6f00",
   "metadata": {},
   "outputs": [],
   "source": [
    "card_values = {\n",
    "    'yes': 1,\n",
    "    'no': 0\n",
    "}\n",
    "\n",
    "df.card = df.card.map(card_values)"
   ]
  },
  {
   "cell_type": "code",
   "execution_count": 21,
   "id": "b1bdddbb-9c8f-4659-9c5e-a9206d6abebe",
   "metadata": {},
   "outputs": [
    {
     "data": {
      "text/html": [
       "<div>\n",
       "<style scoped>\n",
       "    .dataframe tbody tr th:only-of-type {\n",
       "        vertical-align: middle;\n",
       "    }\n",
       "\n",
       "    .dataframe tbody tr th {\n",
       "        vertical-align: top;\n",
       "    }\n",
       "\n",
       "    .dataframe thead th {\n",
       "        text-align: right;\n",
       "    }\n",
       "</style>\n",
       "<table border=\"1\" class=\"dataframe\">\n",
       "  <thead>\n",
       "    <tr style=\"text-align: right;\">\n",
       "      <th></th>\n",
       "      <th>card</th>\n",
       "      <th>reports</th>\n",
       "      <th>age</th>\n",
       "      <th>income</th>\n",
       "      <th>share</th>\n",
       "      <th>expenditure</th>\n",
       "      <th>owner</th>\n",
       "      <th>selfemp</th>\n",
       "      <th>dependents</th>\n",
       "      <th>months</th>\n",
       "      <th>majorcards</th>\n",
       "      <th>active</th>\n",
       "    </tr>\n",
       "  </thead>\n",
       "  <tbody>\n",
       "    <tr>\n",
       "      <th>0</th>\n",
       "      <td>1</td>\n",
       "      <td>0</td>\n",
       "      <td>37.66667</td>\n",
       "      <td>4.5200</td>\n",
       "      <td>0.033270</td>\n",
       "      <td>124.983300</td>\n",
       "      <td>yes</td>\n",
       "      <td>no</td>\n",
       "      <td>3</td>\n",
       "      <td>54</td>\n",
       "      <td>1</td>\n",
       "      <td>12</td>\n",
       "    </tr>\n",
       "    <tr>\n",
       "      <th>1</th>\n",
       "      <td>1</td>\n",
       "      <td>0</td>\n",
       "      <td>33.25000</td>\n",
       "      <td>2.4200</td>\n",
       "      <td>0.005217</td>\n",
       "      <td>9.854167</td>\n",
       "      <td>no</td>\n",
       "      <td>no</td>\n",
       "      <td>3</td>\n",
       "      <td>34</td>\n",
       "      <td>1</td>\n",
       "      <td>13</td>\n",
       "    </tr>\n",
       "    <tr>\n",
       "      <th>2</th>\n",
       "      <td>1</td>\n",
       "      <td>0</td>\n",
       "      <td>33.66667</td>\n",
       "      <td>4.5000</td>\n",
       "      <td>0.004156</td>\n",
       "      <td>15.000000</td>\n",
       "      <td>yes</td>\n",
       "      <td>no</td>\n",
       "      <td>4</td>\n",
       "      <td>58</td>\n",
       "      <td>1</td>\n",
       "      <td>5</td>\n",
       "    </tr>\n",
       "    <tr>\n",
       "      <th>3</th>\n",
       "      <td>1</td>\n",
       "      <td>0</td>\n",
       "      <td>30.50000</td>\n",
       "      <td>2.5400</td>\n",
       "      <td>0.065214</td>\n",
       "      <td>137.869200</td>\n",
       "      <td>no</td>\n",
       "      <td>no</td>\n",
       "      <td>0</td>\n",
       "      <td>25</td>\n",
       "      <td>1</td>\n",
       "      <td>7</td>\n",
       "    </tr>\n",
       "    <tr>\n",
       "      <th>4</th>\n",
       "      <td>1</td>\n",
       "      <td>0</td>\n",
       "      <td>32.16667</td>\n",
       "      <td>9.7867</td>\n",
       "      <td>0.067051</td>\n",
       "      <td>546.503300</td>\n",
       "      <td>yes</td>\n",
       "      <td>no</td>\n",
       "      <td>2</td>\n",
       "      <td>64</td>\n",
       "      <td>1</td>\n",
       "      <td>5</td>\n",
       "    </tr>\n",
       "  </tbody>\n",
       "</table>\n",
       "</div>"
      ],
      "text/plain": [
       "   card  reports       age  income     share  expenditure owner selfemp  \\\n",
       "0     1        0  37.66667  4.5200  0.033270   124.983300   yes      no   \n",
       "1     1        0  33.25000  2.4200  0.005217     9.854167    no      no   \n",
       "2     1        0  33.66667  4.5000  0.004156    15.000000   yes      no   \n",
       "3     1        0  30.50000  2.5400  0.065214   137.869200    no      no   \n",
       "4     1        0  32.16667  9.7867  0.067051   546.503300   yes      no   \n",
       "\n",
       "   dependents  months  majorcards  active  \n",
       "0           3      54           1      12  \n",
       "1           3      34           1      13  \n",
       "2           4      58           1       5  \n",
       "3           0      25           1       7  \n",
       "4           2      64           1       5  "
      ]
     },
     "execution_count": 21,
     "metadata": {},
     "output_type": "execute_result"
    }
   ],
   "source": [
    "df.head()"
   ]
  },
  {
   "cell_type": "code",
   "execution_count": 22,
   "id": "d02f2720-8983-4377-8be6-df259a220e66",
   "metadata": {},
   "outputs": [
    {
     "data": {
      "text/plain": [
       "card           0\n",
       "reports        0\n",
       "age            0\n",
       "income         0\n",
       "share          0\n",
       "expenditure    0\n",
       "owner          0\n",
       "selfemp        0\n",
       "dependents     0\n",
       "months         0\n",
       "majorcards     0\n",
       "active         0\n",
       "dtype: int64"
      ]
     },
     "execution_count": 22,
     "metadata": {},
     "output_type": "execute_result"
    }
   ],
   "source": [
    "df.isna().sum() ## There is no NaN values"
   ]
  },
  {
   "cell_type": "code",
   "execution_count": 25,
   "id": "220d37be-f61c-413e-ad77-be9a068a97b1",
   "metadata": {},
   "outputs": [
    {
     "name": "stdout",
     "output_type": "stream",
     "text": [
      "<class 'pandas.core.frame.DataFrame'>\n",
      "RangeIndex: 1319 entries, 0 to 1318\n",
      "Data columns (total 12 columns):\n",
      " #   Column       Non-Null Count  Dtype  \n",
      "---  ------       --------------  -----  \n",
      " 0   card         1319 non-null   int64  \n",
      " 1   reports      1319 non-null   int64  \n",
      " 2   age          1319 non-null   float64\n",
      " 3   income       1319 non-null   float64\n",
      " 4   share        1319 non-null   float64\n",
      " 5   expenditure  1319 non-null   float64\n",
      " 6   owner        1319 non-null   object \n",
      " 7   selfemp      1319 non-null   object \n",
      " 8   dependents   1319 non-null   int64  \n",
      " 9   months       1319 non-null   int64  \n",
      " 10  majorcards   1319 non-null   int64  \n",
      " 11  active       1319 non-null   int64  \n",
      "dtypes: float64(4), int64(6), object(2)\n",
      "memory usage: 123.8+ KB\n"
     ]
    }
   ],
   "source": [
    "df.info()"
   ]
  },
  {
   "cell_type": "code",
   "execution_count": 26,
   "id": "6a6c402c-39f5-4dbf-bf8d-a22d6280ceb7",
   "metadata": {},
   "outputs": [
    {
     "data": {
      "text/html": [
       "<style type=\"text/css\">\n",
       "#T_8b42b_row0_col1, #T_8b42b_row8_col1 {\n",
       "  width: 10em;\n",
       "  background: linear-gradient(90deg, #dbba78 0.4%, transparent 0.4%);\n",
       "}\n",
       "#T_8b42b_row0_col2, #T_8b42b_row0_col7, #T_8b42b_row1_col5, #T_8b42b_row4_col2, #T_8b42b_row4_col5, #T_8b42b_row4_col7, #T_8b42b_row6_col7, #T_8b42b_row8_col2, #T_8b42b_row8_col7 {\n",
       "  background-color: #fff7fb;\n",
       "  color: #000000;\n",
       "}\n",
       "#T_8b42b_row0_col5, #T_8b42b_row6_col5, #T_8b42b_row8_col5 {\n",
       "  background-color: #fef6fa;\n",
       "  color: #000000;\n",
       "}\n",
       "#T_8b42b_row1_col1 {\n",
       "  width: 10em;\n",
       "  background: linear-gradient(90deg, #dbba78 0.2%, transparent 0.2%);\n",
       "}\n",
       "#T_8b42b_row1_col2, #T_8b42b_row1_col7, #T_8b42b_row3_col2, #T_8b42b_row3_col7, #T_8b42b_row6_col2 {\n",
       "  background-color: #fef6fb;\n",
       "  color: #000000;\n",
       "}\n",
       "#T_8b42b_row2_col1 {\n",
       "  width: 10em;\n",
       "  background: linear-gradient(90deg, #dbba78 17.9%, transparent 17.9%);\n",
       "}\n",
       "#T_8b42b_row2_col2 {\n",
       "  background-color: #faf2f8;\n",
       "  color: #000000;\n",
       "}\n",
       "#T_8b42b_row2_col5 {\n",
       "  background-color: #bdc8e1;\n",
       "  color: #000000;\n",
       "}\n",
       "#T_8b42b_row2_col7 {\n",
       "  background-color: #fbf4f9;\n",
       "  color: #000000;\n",
       "}\n",
       "#T_8b42b_row3_col1 {\n",
       "  width: 10em;\n",
       "  background: linear-gradient(90deg, #dbba78 1.8%, transparent 1.8%);\n",
       "}\n",
       "#T_8b42b_row3_col5 {\n",
       "  background-color: #fbf3f9;\n",
       "  color: #000000;\n",
       "}\n",
       "#T_8b42b_row4_col1 {\n",
       "  width: 10em;\n",
       "  background: linear-gradient(90deg, #dbba78 0.0%, transparent 0.0%);\n",
       "}\n",
       "#T_8b42b_row5_col1 {\n",
       "  width: 10em;\n",
       "  background: linear-gradient(90deg, #dbba78 100.0%, transparent 100.0%);\n",
       "}\n",
       "#T_8b42b_row5_col2, #T_8b42b_row5_col5, #T_8b42b_row5_col7 {\n",
       "  background-color: #023858;\n",
       "  color: #f1f1f1;\n",
       "}\n",
       "#T_8b42b_row6_col1 {\n",
       "  width: 10em;\n",
       "  background: linear-gradient(90deg, #dbba78 0.5%, transparent 0.5%);\n",
       "}\n",
       "#T_8b42b_row7_col1 {\n",
       "  width: 10em;\n",
       "  background: linear-gradient(90deg, #dbba78 29.9%, transparent 29.9%);\n",
       "}\n",
       "#T_8b42b_row7_col2 {\n",
       "  background-color: #d2d2e7;\n",
       "  color: #000000;\n",
       "}\n",
       "#T_8b42b_row7_col5 {\n",
       "  background-color: #c1cae2;\n",
       "  color: #000000;\n",
       "}\n",
       "#T_8b42b_row7_col7 {\n",
       "  background-color: #e1dfed;\n",
       "  color: #000000;\n",
       "}\n",
       "#T_8b42b_row9_col1 {\n",
       "  width: 10em;\n",
       "  background: linear-gradient(90deg, #dbba78 3.8%, transparent 3.8%);\n",
       "}\n",
       "#T_8b42b_row9_col2 {\n",
       "  background-color: #fcf4fa;\n",
       "  color: #000000;\n",
       "}\n",
       "#T_8b42b_row9_col5 {\n",
       "  background-color: #f6eff7;\n",
       "  color: #000000;\n",
       "}\n",
       "#T_8b42b_row9_col7 {\n",
       "  background-color: #fdf5fa;\n",
       "  color: #000000;\n",
       "}\n",
       "</style>\n",
       "<table id=\"T_8b42b\">\n",
       "  <thead>\n",
       "    <tr>\n",
       "      <th class=\"blank level0\" >&nbsp;</th>\n",
       "      <th id=\"T_8b42b_level0_col0\" class=\"col_heading level0 col0\" >count</th>\n",
       "      <th id=\"T_8b42b_level0_col1\" class=\"col_heading level0 col1\" >mean</th>\n",
       "      <th id=\"T_8b42b_level0_col2\" class=\"col_heading level0 col2\" >std</th>\n",
       "      <th id=\"T_8b42b_level0_col3\" class=\"col_heading level0 col3\" >min</th>\n",
       "      <th id=\"T_8b42b_level0_col4\" class=\"col_heading level0 col4\" >25%</th>\n",
       "      <th id=\"T_8b42b_level0_col5\" class=\"col_heading level0 col5\" >50%</th>\n",
       "      <th id=\"T_8b42b_level0_col6\" class=\"col_heading level0 col6\" >75%</th>\n",
       "      <th id=\"T_8b42b_level0_col7\" class=\"col_heading level0 col7\" >max</th>\n",
       "    </tr>\n",
       "  </thead>\n",
       "  <tbody>\n",
       "    <tr>\n",
       "      <th id=\"T_8b42b_level0_row0\" class=\"row_heading level0 row0\" >card</th>\n",
       "      <td id=\"T_8b42b_row0_col0\" class=\"data row0 col0\" >1319.000000</td>\n",
       "      <td id=\"T_8b42b_row0_col1\" class=\"data row0 col1\" >0.775588</td>\n",
       "      <td id=\"T_8b42b_row0_col2\" class=\"data row0 col2\" >0.417353</td>\n",
       "      <td id=\"T_8b42b_row0_col3\" class=\"data row0 col3\" >0.000000</td>\n",
       "      <td id=\"T_8b42b_row0_col4\" class=\"data row0 col4\" >1.000000</td>\n",
       "      <td id=\"T_8b42b_row0_col5\" class=\"data row0 col5\" >1.000000</td>\n",
       "      <td id=\"T_8b42b_row0_col6\" class=\"data row0 col6\" >1.000000</td>\n",
       "      <td id=\"T_8b42b_row0_col7\" class=\"data row0 col7\" >1.000000</td>\n",
       "    </tr>\n",
       "    <tr>\n",
       "      <th id=\"T_8b42b_level0_row1\" class=\"row_heading level0 row1\" >reports</th>\n",
       "      <td id=\"T_8b42b_row1_col0\" class=\"data row1 col0\" >1319.000000</td>\n",
       "      <td id=\"T_8b42b_row1_col1\" class=\"data row1 col1\" >0.456406</td>\n",
       "      <td id=\"T_8b42b_row1_col2\" class=\"data row1 col2\" >1.345267</td>\n",
       "      <td id=\"T_8b42b_row1_col3\" class=\"data row1 col3\" >0.000000</td>\n",
       "      <td id=\"T_8b42b_row1_col4\" class=\"data row1 col4\" >0.000000</td>\n",
       "      <td id=\"T_8b42b_row1_col5\" class=\"data row1 col5\" >0.000000</td>\n",
       "      <td id=\"T_8b42b_row1_col6\" class=\"data row1 col6\" >0.000000</td>\n",
       "      <td id=\"T_8b42b_row1_col7\" class=\"data row1 col7\" >14.000000</td>\n",
       "    </tr>\n",
       "    <tr>\n",
       "      <th id=\"T_8b42b_level0_row2\" class=\"row_heading level0 row2\" >age</th>\n",
       "      <td id=\"T_8b42b_row2_col0\" class=\"data row2 col0\" >1319.000000</td>\n",
       "      <td id=\"T_8b42b_row2_col1\" class=\"data row2 col1\" >33.213103</td>\n",
       "      <td id=\"T_8b42b_row2_col2\" class=\"data row2 col2\" >10.142783</td>\n",
       "      <td id=\"T_8b42b_row2_col3\" class=\"data row2 col3\" >0.166667</td>\n",
       "      <td id=\"T_8b42b_row2_col4\" class=\"data row2 col4\" >25.416670</td>\n",
       "      <td id=\"T_8b42b_row2_col5\" class=\"data row2 col5\" >31.250000</td>\n",
       "      <td id=\"T_8b42b_row2_col6\" class=\"data row2 col6\" >39.416670</td>\n",
       "      <td id=\"T_8b42b_row2_col7\" class=\"data row2 col7\" >83.500000</td>\n",
       "    </tr>\n",
       "    <tr>\n",
       "      <th id=\"T_8b42b_level0_row3\" class=\"row_heading level0 row3\" >income</th>\n",
       "      <td id=\"T_8b42b_row3_col0\" class=\"data row3 col0\" >1319.000000</td>\n",
       "      <td id=\"T_8b42b_row3_col1\" class=\"data row3 col1\" >3.365376</td>\n",
       "      <td id=\"T_8b42b_row3_col2\" class=\"data row3 col2\" >1.693902</td>\n",
       "      <td id=\"T_8b42b_row3_col3\" class=\"data row3 col3\" >0.210000</td>\n",
       "      <td id=\"T_8b42b_row3_col4\" class=\"data row3 col4\" >2.243750</td>\n",
       "      <td id=\"T_8b42b_row3_col5\" class=\"data row3 col5\" >2.900000</td>\n",
       "      <td id=\"T_8b42b_row3_col6\" class=\"data row3 col6\" >4.000000</td>\n",
       "      <td id=\"T_8b42b_row3_col7\" class=\"data row3 col7\" >13.500000</td>\n",
       "    </tr>\n",
       "    <tr>\n",
       "      <th id=\"T_8b42b_level0_row4\" class=\"row_heading level0 row4\" >share</th>\n",
       "      <td id=\"T_8b42b_row4_col0\" class=\"data row4 col0\" >1319.000000</td>\n",
       "      <td id=\"T_8b42b_row4_col1\" class=\"data row4 col1\" >0.068732</td>\n",
       "      <td id=\"T_8b42b_row4_col2\" class=\"data row4 col2\" >0.094656</td>\n",
       "      <td id=\"T_8b42b_row4_col3\" class=\"data row4 col3\" >0.000109</td>\n",
       "      <td id=\"T_8b42b_row4_col4\" class=\"data row4 col4\" >0.002316</td>\n",
       "      <td id=\"T_8b42b_row4_col5\" class=\"data row4 col5\" >0.038827</td>\n",
       "      <td id=\"T_8b42b_row4_col6\" class=\"data row4 col6\" >0.093617</td>\n",
       "      <td id=\"T_8b42b_row4_col7\" class=\"data row4 col7\" >0.906320</td>\n",
       "    </tr>\n",
       "    <tr>\n",
       "      <th id=\"T_8b42b_level0_row5\" class=\"row_heading level0 row5\" >expenditure</th>\n",
       "      <td id=\"T_8b42b_row5_col0\" class=\"data row5 col0\" >1319.000000</td>\n",
       "      <td id=\"T_8b42b_row5_col1\" class=\"data row5 col1\" >185.057071</td>\n",
       "      <td id=\"T_8b42b_row5_col2\" class=\"data row5 col2\" >272.218917</td>\n",
       "      <td id=\"T_8b42b_row5_col3\" class=\"data row5 col3\" >0.000000</td>\n",
       "      <td id=\"T_8b42b_row5_col4\" class=\"data row5 col4\" >4.583333</td>\n",
       "      <td id=\"T_8b42b_row5_col5\" class=\"data row5 col5\" >101.298300</td>\n",
       "      <td id=\"T_8b42b_row5_col6\" class=\"data row5 col6\" >249.035800</td>\n",
       "      <td id=\"T_8b42b_row5_col7\" class=\"data row5 col7\" >3099.505000</td>\n",
       "    </tr>\n",
       "    <tr>\n",
       "      <th id=\"T_8b42b_level0_row6\" class=\"row_heading level0 row6\" >dependents</th>\n",
       "      <td id=\"T_8b42b_row6_col0\" class=\"data row6 col0\" >1319.000000</td>\n",
       "      <td id=\"T_8b42b_row6_col1\" class=\"data row6 col1\" >0.993935</td>\n",
       "      <td id=\"T_8b42b_row6_col2\" class=\"data row6 col2\" >1.247745</td>\n",
       "      <td id=\"T_8b42b_row6_col3\" class=\"data row6 col3\" >0.000000</td>\n",
       "      <td id=\"T_8b42b_row6_col4\" class=\"data row6 col4\" >0.000000</td>\n",
       "      <td id=\"T_8b42b_row6_col5\" class=\"data row6 col5\" >1.000000</td>\n",
       "      <td id=\"T_8b42b_row6_col6\" class=\"data row6 col6\" >2.000000</td>\n",
       "      <td id=\"T_8b42b_row6_col7\" class=\"data row6 col7\" >6.000000</td>\n",
       "    </tr>\n",
       "    <tr>\n",
       "      <th id=\"T_8b42b_level0_row7\" class=\"row_heading level0 row7\" >months</th>\n",
       "      <td id=\"T_8b42b_row7_col0\" class=\"data row7 col0\" >1319.000000</td>\n",
       "      <td id=\"T_8b42b_row7_col1\" class=\"data row7 col1\" >55.267627</td>\n",
       "      <td id=\"T_8b42b_row7_col2\" class=\"data row7 col2\" >66.271746</td>\n",
       "      <td id=\"T_8b42b_row7_col3\" class=\"data row7 col3\" >0.000000</td>\n",
       "      <td id=\"T_8b42b_row7_col4\" class=\"data row7 col4\" >12.000000</td>\n",
       "      <td id=\"T_8b42b_row7_col5\" class=\"data row7 col5\" >30.000000</td>\n",
       "      <td id=\"T_8b42b_row7_col6\" class=\"data row7 col6\" >72.000000</td>\n",
       "      <td id=\"T_8b42b_row7_col7\" class=\"data row7 col7\" >540.000000</td>\n",
       "    </tr>\n",
       "    <tr>\n",
       "      <th id=\"T_8b42b_level0_row8\" class=\"row_heading level0 row8\" >majorcards</th>\n",
       "      <td id=\"T_8b42b_row8_col0\" class=\"data row8 col0\" >1319.000000</td>\n",
       "      <td id=\"T_8b42b_row8_col1\" class=\"data row8 col1\" >0.817286</td>\n",
       "      <td id=\"T_8b42b_row8_col2\" class=\"data row8 col2\" >0.386579</td>\n",
       "      <td id=\"T_8b42b_row8_col3\" class=\"data row8 col3\" >0.000000</td>\n",
       "      <td id=\"T_8b42b_row8_col4\" class=\"data row8 col4\" >1.000000</td>\n",
       "      <td id=\"T_8b42b_row8_col5\" class=\"data row8 col5\" >1.000000</td>\n",
       "      <td id=\"T_8b42b_row8_col6\" class=\"data row8 col6\" >1.000000</td>\n",
       "      <td id=\"T_8b42b_row8_col7\" class=\"data row8 col7\" >1.000000</td>\n",
       "    </tr>\n",
       "    <tr>\n",
       "      <th id=\"T_8b42b_level0_row9\" class=\"row_heading level0 row9\" >active</th>\n",
       "      <td id=\"T_8b42b_row9_col0\" class=\"data row9 col0\" >1319.000000</td>\n",
       "      <td id=\"T_8b42b_row9_col1\" class=\"data row9 col1\" >6.996967</td>\n",
       "      <td id=\"T_8b42b_row9_col2\" class=\"data row9 col2\" >6.305812</td>\n",
       "      <td id=\"T_8b42b_row9_col3\" class=\"data row9 col3\" >0.000000</td>\n",
       "      <td id=\"T_8b42b_row9_col4\" class=\"data row9 col4\" >2.000000</td>\n",
       "      <td id=\"T_8b42b_row9_col5\" class=\"data row9 col5\" >6.000000</td>\n",
       "      <td id=\"T_8b42b_row9_col6\" class=\"data row9 col6\" >11.000000</td>\n",
       "      <td id=\"T_8b42b_row9_col7\" class=\"data row9 col7\" >46.000000</td>\n",
       "    </tr>\n",
       "  </tbody>\n",
       "</table>\n"
      ],
      "text/plain": [
       "<pandas.io.formats.style.Styler at 0x7f3158163a90>"
      ]
     },
     "execution_count": 26,
     "metadata": {},
     "output_type": "execute_result"
    }
   ],
   "source": [
    "# Color Palettes\n",
    "colors = [\"#bfd3e6\", \"#9b5b4f\", \"#4e4151\", \"#dbba78\", \"#bb9c55\", \"#909195\",\"#dc1e1e\",\"#a02933\",\"#716807\",\"#717cb4\"]\n",
    "df.describe().T.style.bar(subset=['mean'],color=colors[3]).background_gradient(subset=['std','50%','max'])"
   ]
  },
  {
   "cell_type": "markdown",
   "id": "928584e7-bb9f-4571-9c2d-f9b7546f2de7",
   "metadata": {},
   "source": [
    "What are the categorical and numerical variables."
   ]
  },
  {
   "cell_type": "code",
   "execution_count": 36,
   "id": "322005c3-0c73-4061-9656-1149abc5ea2e",
   "metadata": {},
   "outputs": [
    {
     "data": {
      "text/plain": [
       "['card',\n",
       " 'reports',\n",
       " 'age',\n",
       " 'income',\n",
       " 'share',\n",
       " 'expenditure',\n",
       " 'dependents',\n",
       " 'months',\n",
       " 'majorcards',\n",
       " 'active']"
      ]
     },
     "execution_count": 36,
     "metadata": {},
     "output_type": "execute_result"
    }
   ],
   "source": [
    "numerical = df.dtypes[df.dtypes != \"object\"].index.to_list()\n",
    "numerical"
   ]
  },
  {
   "cell_type": "code",
   "execution_count": 37,
   "id": "1d4433a4-0af7-401f-9d42-8b06ba0879f3",
   "metadata": {},
   "outputs": [
    {
     "data": {
      "text/plain": [
       "['owner', 'selfemp']"
      ]
     },
     "execution_count": 37,
     "metadata": {},
     "output_type": "execute_result"
    }
   ],
   "source": [
    "categorical = df.dtypes[df.dtypes == \"object\"].index.to_list()\n",
    "categorical"
   ]
  },
  {
   "cell_type": "code",
   "execution_count": 75,
   "id": "36b37c5e-28b3-4d2d-b209-0202cab4cf03",
   "metadata": {},
   "outputs": [
    {
     "name": "stdout",
     "output_type": "stream",
     "text": [
      "['no' 'yes']\n",
      "['no' 'yes']\n"
     ]
    }
   ],
   "source": [
    "# verifying values on categorical variables\n",
    "print(df_train[categorical]['owner'].unique())\n",
    "print(df_train[categorical]['selfemp'].unique())"
   ]
  },
  {
   "cell_type": "code",
   "execution_count": 38,
   "id": "ff48caf9-7511-4e67-b195-b6ecaf303c48",
   "metadata": {},
   "outputs": [
    {
     "data": {
      "image/png": "[encoded data removed]",
      "text/plain": [
       "<Figure size 1500x500 with 10 Axes>"
      ]
     },
     "metadata": {},
     "output_type": "display_data"
    }
   ],
   "source": [
    "#@ INSPECTING HISTOGRAM:\n",
    "fig = plt.figure(figsize=(15,5))\n",
    "ax = plt.gca()\n",
    "df.hist(bins=30, ax=ax, layout=(2, 5), column=numerical)\n",
    "plt.tight_layout()\n",
    "plt.show()"
   ]
  },
  {
   "cell_type": "markdown",
   "id": "6abbd69e-2ce6-4624-8bb0-7d9ee84ee029",
   "metadata": {},
   "source": [
    "Split the dataset into 3 parts: train/validation/test with 60%/20%/20% distribution. Use train_test_split function for that with random_state=1."
   ]
  },
  {
   "cell_type": "code",
   "execution_count": 48,
   "id": "b39cda9f-d73a-49d4-9a7f-450c79f13ee3",
   "metadata": {},
   "outputs": [],
   "source": [
    "df_full_train, df_test = train_test_split(df, test_size=0.2, random_state=1)\n",
    "df_train, df_val = train_test_split(df_full_train, test_size=0.25, random_state=1)"
   ]
  },
  {
   "cell_type": "code",
   "execution_count": 49,
   "id": "2069a5e6-9147-4c99-9677-8535cc0c57b1",
   "metadata": {},
   "outputs": [
    {
     "data": {
      "text/plain": [
       "(791, 264, 264)"
      ]
     },
     "execution_count": 49,
     "metadata": {},
     "output_type": "execute_result"
    }
   ],
   "source": [
    "len(df_train), len(df_val), len(df_test)"
   ]
  },
  {
   "cell_type": "code",
   "execution_count": 50,
   "id": "4a58a09d-63e6-49d7-8a65-00a2d773c7eb",
   "metadata": {},
   "outputs": [
    {
     "data": {
      "text/plain": [
       "(60.0, 20.0, 20.0)"
      ]
     },
     "execution_count": 50,
     "metadata": {},
     "output_type": "execute_result"
    }
   ],
   "source": [
    "round(len(df_train)/len(df)*100,0), round(len(df_val)/len(df)*100,0), round(len(df_test)/len(df)*100,0)"
   ]
  },
  {
   "cell_type": "code",
   "execution_count": 51,
   "id": "1280fbee-a7f0-4819-aa97-f985c58c1554",
   "metadata": {},
   "outputs": [],
   "source": [
    "df_train = df_train.reset_index(drop=True)\n",
    "df_val = df_val.reset_index(drop=True)\n",
    "df_test = df_test.reset_index(drop=True)"
   ]
  },
  {
   "cell_type": "code",
   "execution_count": 52,
   "id": "edc26453-4852-4dba-b58e-f380f3e69534",
   "metadata": {},
   "outputs": [],
   "source": [
    "y_train = df_train.card.values\n",
    "y_val = df_val.card.values\n",
    "y_test = df_test.card.values"
   ]
  },
  {
   "cell_type": "code",
   "execution_count": 104,
   "id": "91418027-d54d-4e9b-9a6a-ff187675834d",
   "metadata": {},
   "outputs": [
    {
     "data": {
      "text/plain": [
       "(177, 614)"
      ]
     },
     "execution_count": 104,
     "metadata": {},
     "output_type": "execute_result"
    }
   ],
   "source": [
    "(y_train == 0).sum(), (y_train == 1).sum()"
   ]
  },
  {
   "cell_type": "code",
   "execution_count": 105,
   "id": "2af507a0-6971-490c-ae4b-862cc70cb739",
   "metadata": {},
   "outputs": [
    {
     "data": {
      "text/plain": [
       "(53, 211)"
      ]
     },
     "execution_count": 105,
     "metadata": {},
     "output_type": "execute_result"
    }
   ],
   "source": [
    "(y_val == 0).sum(), (y_val == 1).sum()"
   ]
  },
  {
   "cell_type": "code",
   "execution_count": 106,
   "id": "faea55bc-900b-4dd6-9314-6f551cecb727",
   "metadata": {},
   "outputs": [
    {
     "data": {
      "text/plain": [
       "(66, 198)"
      ]
     },
     "execution_count": 106,
     "metadata": {},
     "output_type": "execute_result"
    }
   ],
   "source": [
    "(y_test == 0).sum(), (y_test == 1).sum()"
   ]
  },
  {
   "cell_type": "code",
   "execution_count": 53,
   "id": "dbe26cf1-7b82-49ef-bf63-6ed7fd2ed8f8",
   "metadata": {},
   "outputs": [],
   "source": [
    "del df_train['card']\n",
    "del df_val['card']\n",
    "del df_test['card']"
   ]
  },
  {
   "cell_type": "code",
   "execution_count": 54,
   "id": "b8c54433-9e8a-4056-978e-e93b78ef9e86",
   "metadata": {},
   "outputs": [
    {
     "data": {
      "text/plain": [
       "Index(['reports', 'age', 'income', 'share', 'expenditure', 'owner', 'selfemp',\n",
       "       'dependents', 'months', 'majorcards', 'active'],\n",
       "      dtype='object')"
      ]
     },
     "execution_count": 54,
     "metadata": {},
     "output_type": "execute_result"
    }
   ],
   "source": [
    "df_train.columns"
   ]
  },
  {
   "cell_type": "code",
   "execution_count": 58,
   "id": "cb281889-f6d6-4b57-8221-ef9f87af179f",
   "metadata": {},
   "outputs": [
    {
     "data": {
      "text/plain": [
       "['reports',\n",
       " 'age',\n",
       " 'income',\n",
       " 'share',\n",
       " 'expenditure',\n",
       " 'dependents',\n",
       " 'months',\n",
       " 'majorcards',\n",
       " 'active']"
      ]
     },
     "execution_count": 58,
     "metadata": {},
     "output_type": "execute_result"
    }
   ],
   "source": [
    "# Updating the numerical variables list by removing target variable.\n",
    "numerical.remove('card')\n",
    "numerical"
   ]
  },
  {
   "cell_type": "markdown",
   "id": "58575e13-1fa4-4296-b007-16411f653765",
   "metadata": {},
   "source": [
    "### Question 1\n",
    "ROC AUC could also be used to evaluate feature importance of numerical variables.\n",
    "\n",
    "Let's do that\n",
    "\n",
    "- For each numerical variable, use it as score and compute AUC with the card variable.\n",
    "- Use the training dataset for that.\n",
    "If your AUC is < 0.5, invert this variable by putting \"-\" in front\n",
    "\n",
    "(e.g. -df_train['expenditure'])\n",
    "\n",
    "AUC can go below 0.5 if the variable is negatively correlated with the target varialble. You can change the direction of the correlation by negating this variable - then negative correlation becomes positive."
   ]
  },
  {
   "cell_type": "code",
   "execution_count": 83,
   "id": "9a393a1d-b121-4525-acee-a860bd823fc4",
   "metadata": {},
   "outputs": [
    {
     "data": {
      "text/plain": [
       "['reports',\n",
       " 'age',\n",
       " 'income',\n",
       " 'share',\n",
       " 'expenditure',\n",
       " 'dependents',\n",
       " 'months',\n",
       " 'majorcards',\n",
       " 'active']"
      ]
     },
     "execution_count": 83,
     "metadata": {},
     "output_type": "execute_result"
    }
   ],
   "source": [
    "numerical"
   ]
  },
  {
   "cell_type": "code",
   "execution_count": 110,
   "id": "1c5deef4-8b3b-48c7-b105-8772ef99b86e",
   "metadata": {},
   "outputs": [
    {
     "name": "stdout",
     "output_type": "stream",
     "text": [
      "reports 0.7166629860689376\n",
      "age 0.5240020979407055\n",
      "income 0.5908049467233478\n",
      "share 0.989183643423692\n",
      "expenditure 0.991042345276873\n",
      "dependents 0.5327757227773791\n",
      "months 0.5294217780967629\n",
      "majorcards 0.5343859842838476\n",
      "active 0.6043173411362006\n"
     ]
    }
   ],
   "source": [
    "for c in numerical:\n",
    "    auc = roc_auc_score(y_train, df_train[c])\n",
    "    if auc < 0.5:\n",
    "        auc = roc_auc_score(y_train, -df_train[c])\n",
    "    print(c, auc)"
   ]
  },
  {
   "cell_type": "markdown",
   "id": "6547ea63-0868-46df-bba8-453e965f4053",
   "metadata": {},
   "source": [
    "Which numerical variable (among the following 4) has the highest AUC?\n",
    "\n",
    "- reports\n",
    "- dependents\n",
    "- active\n",
    "- **share**"
   ]
  },
  {
   "cell_type": "markdown",
   "id": "7213371e-b9fb-4390-ad0f-7e0ffa7fb9b9",
   "metadata": {},
   "source": [
    "R/ The answer among the 4 available is share, given it has 0.989 AUC, is incredible how good descriptors are expenditure and share, might be that those 2 variables are leakage of the target variable. Need to explore in detail considerations about the dataset."
   ]
  },
  {
   "cell_type": "markdown",
   "id": "533583fd-d389-41ce-af46-9aa30c0cbec0",
   "metadata": {},
   "source": [
    "#### Training the model\n",
    "From now on, use these columns only:\n",
    "\n",
    "```python\n",
    "[\"reports\", \"age\", \"income\", \"share\", \"expenditure\", \"dependents\", \"months\", \"majorcards\", \"active\", \"owner\", \"selfemp\"]\n",
    "```\n",
    "Apply one-hot-encoding using DictVectorizer and train the logistic regression with these parameters:\n",
    "\n",
    "LogisticRegression(solver='liblinear', C=1.0, max_iter=1000)"
   ]
  },
  {
   "cell_type": "code",
   "execution_count": 111,
   "id": "e643ce26-c2fe-4178-99fa-0ec4bf34069a",
   "metadata": {},
   "outputs": [],
   "source": [
    "features = [\"reports\", \"age\", \"income\", \"share\", \"expenditure\", \"dependents\", \"months\", \"majorcards\", \"active\", \"owner\", \"selfemp\"]"
   ]
  },
  {
   "cell_type": "code",
   "execution_count": 114,
   "id": "127774a9-bf63-4c95-a81c-91b0298937e3",
   "metadata": {},
   "outputs": [
    {
     "data": {
      "text/plain": [
       "[{'reports': 3,\n",
       "  'age': 40.5,\n",
       "  'income': 4.0128,\n",
       "  'share': 0.0002990431,\n",
       "  'expenditure': 0.0,\n",
       "  'dependents': 1,\n",
       "  'months': 12,\n",
       "  'majorcards': 1,\n",
       "  'active': 17,\n",
       "  'owner': 'no',\n",
       "  'selfemp': 'no'},\n",
       " {'reports': 1,\n",
       "  'age': 32.33333,\n",
       "  'income': 6.0,\n",
       "  'share': 0.0002,\n",
       "  'expenditure': 0.0,\n",
       "  'dependents': 4,\n",
       "  'months': 18,\n",
       "  'majorcards': 1,\n",
       "  'active': 4,\n",
       "  'owner': 'yes',\n",
       "  'selfemp': 'no'}]"
      ]
     },
     "execution_count": 114,
     "metadata": {},
     "output_type": "execute_result"
    }
   ],
   "source": [
    "train_dict = df_train[features].to_dict(orient='records')\n",
    "train_dict"
   ]
  },
  {
   "cell_type": "code",
   "execution_count": 115,
   "id": "e0054949-0d0a-4935-9cd9-8955e8040abc",
   "metadata": {},
   "outputs": [],
   "source": [
    "dv = DictVectorizer(sparse=False)\n",
    "X_train = dv.fit_transform(train_dict)"
   ]
  },
  {
   "cell_type": "code",
   "execution_count": 116,
   "id": "af41bdbd-4544-4c88-a3d8-5b4250cb9d71",
   "metadata": {},
   "outputs": [
    {
     "data": {
      "text/html": [
       "<style>#sk-container-id-1 {color: black;background-color: white;}#sk-container-id-1 pre{padding: 0;}#sk-container-id-1 div.sk-toggleable {background-color: white;}#sk-container-id-1 label.sk-toggleable__label {cursor: pointer;display: block;width: 100%;margin-bottom: 0;padding: 0.3em;box-sizing: border-box;text-align: center;}#sk-container-id-1 label.sk-toggleable__label-arrow:before {content: \"▸\";float: left;margin-right: 0.25em;color: #696969;}#sk-container-id-1 label.sk-toggleable__label-arrow:hover:before {color: black;}#sk-container-id-1 div.sk-estimator:hover label.sk-toggleable__label-arrow:before {color: black;}#sk-container-id-1 div.sk-toggleable__content {max-height: 0;max-width: 0;overflow: hidden;text-align: left;background-color: #f0f8ff;}#sk-container-id-1 div.sk-toggleable__content pre {margin: 0.2em;color: black;border-radius: 0.25em;background-color: #f0f8ff;}#sk-container-id-1 input.sk-toggleable__control:checked~div.sk-toggleable__content {max-height: 200px;max-width: 100%;overflow: auto;}#sk-container-id-1 input.sk-toggleable__control:checked~label.sk-toggleable__label-arrow:before {content: \"▾\";}#sk-container-id-1 div.sk-estimator input.sk-toggleable__control:checked~label.sk-toggleable__label {background-color: #d4ebff;}#sk-container-id-1 div.sk-label input.sk-toggleable__control:checked~label.sk-toggleable__label {background-color: #d4ebff;}#sk-container-id-1 input.sk-hidden--visually {border: 0;clip: rect(1px 1px 1px 1px);clip: rect(1px, 1px, 1px, 1px);height: 1px;margin: -1px;overflow: hidden;padding: 0;position: absolute;width: 1px;}#sk-container-id-1 div.sk-estimator {font-family: monospace;background-color: #f0f8ff;border: 1px dotted black;border-radius: 0.25em;box-sizing: border-box;margin-bottom: 0.5em;}#sk-container-id-1 div.sk-estimator:hover {background-color: #d4ebff;}#sk-container-id-1 div.sk-parallel-item::after {content: \"\";width: 100%;border-bottom: 1px solid gray;flex-grow: 1;}#sk-container-id-1 div.sk-label:hover label.sk-toggleable__label {background-color: #d4ebff;}#sk-container-id-1 div.sk-serial::before {content: \"\";position: absolute;border-left: 1px solid gray;box-sizing: border-box;top: 0;bottom: 0;left: 50%;z-index: 0;}#sk-container-id-1 div.sk-serial {display: flex;flex-direction: column;align-items: center;background-color: white;padding-right: 0.2em;padding-left: 0.2em;position: relative;}#sk-container-id-1 div.sk-item {position: relative;z-index: 1;}#sk-container-id-1 div.sk-parallel {display: flex;align-items: stretch;justify-content: center;background-color: white;position: relative;}#sk-container-id-1 div.sk-item::before, #sk-container-id-1 div.sk-parallel-item::before {content: \"\";position: absolute;border-left: 1px solid gray;box-sizing: border-box;top: 0;bottom: 0;left: 50%;z-index: -1;}#sk-container-id-1 div.sk-parallel-item {display: flex;flex-direction: column;z-index: 1;position: relative;background-color: white;}#sk-container-id-1 div.sk-parallel-item:first-child::after {align-self: flex-end;width: 50%;}#sk-container-id-1 div.sk-parallel-item:last-child::after {align-self: flex-start;width: 50%;}#sk-container-id-1 div.sk-parallel-item:only-child::after {width: 0;}#sk-container-id-1 div.sk-dashed-wrapped {border: 1px dashed gray;margin: 0 0.4em 0.5em 0.4em;box-sizing: border-box;padding-bottom: 0.4em;background-color: white;}#sk-container-id-1 div.sk-label label {font-family: monospace;font-weight: bold;display: inline-block;line-height: 1.2em;}#sk-container-id-1 div.sk-label-container {text-align: center;}#sk-container-id-1 div.sk-container {/* jupyter's `normalize.less` sets `[hidden] { display: none; }` but bootstrap.min.css set `[hidden] { display: none !important; }` so we also need the `!important` here to be able to override the default hidden behavior on the sphinx rendered scikit-learn.org. See: https://github.com/scikit-learn/scikit-learn/issues/21755 */display: inline-block !important;position: relative;}#sk-container-id-1 div.sk-text-repr-fallback {display: none;}</style><div id=\"sk-container-id-1\" class=\"sk-top-container\"><div class=\"sk-text-repr-fallback\"><pre>LogisticRegression(max_iter=1000, solver=&#x27;liblinear&#x27;)</pre><b>In a Jupyter environment, please rerun this cell to show the HTML representation or trust the notebook. <br />On GitHub, the HTML representation is unable to render, please try loading this page with nbviewer.org.</b></div><div class=\"sk-container\" hidden><div class=\"sk-item\"><div class=\"sk-estimator sk-toggleable\"><input class=\"sk-toggleable__control sk-hidden--visually\" id=\"sk-estimator-id-1\" type=\"checkbox\" checked><label for=\"sk-estimator-id-1\" class=\"sk-toggleable__label sk-toggleable__label-arrow\">LogisticRegression</label><div class=\"sk-toggleable__content\"><pre>LogisticRegression(max_iter=1000, solver=&#x27;liblinear&#x27;)</pre></div></div></div></div></div>"
      ],
      "text/plain": [
       "LogisticRegression(max_iter=1000, solver='liblinear')"
      ]
     },
     "execution_count": 116,
     "metadata": {},
     "output_type": "execute_result"
    }
   ],
   "source": [
    "model = LogisticRegression(solver='liblinear', C=1.0, max_iter=1000)\n",
    "model.fit(X_train, y_train)"
   ]
  },
  {
   "cell_type": "code",
   "execution_count": 118,
   "id": "6beeaa1b-741a-421b-aa33-1494dc154a37",
   "metadata": {},
   "outputs": [],
   "source": [
    "val_dict = df_val[features].to_dict(orient='records')\n",
    "X_val = dv.transform(val_dict)\n",
    "\n",
    "y_pred = model.predict_proba(X_val)[:, 1]"
   ]
  },
  {
   "cell_type": "code",
   "execution_count": 119,
   "id": "c001e9d8-bba9-4da7-8162-ebea929a06c2",
   "metadata": {},
   "outputs": [
    {
     "data": {
      "text/plain": [
       "0.995171242063847"
      ]
     },
     "execution_count": 119,
     "metadata": {},
     "output_type": "execute_result"
    }
   ],
   "source": [
    "roc_auc_score(y_val, y_pred)"
   ]
  },
  {
   "cell_type": "markdown",
   "id": "e3f14bd3-0b14-4bce-adaf-76f9c733e728",
   "metadata": {},
   "source": [
    "### Question 2\n",
    "What's the AUC of this model on the validation dataset? (round to 3 digits)\n",
    "\n",
    "- 0.615\n",
    "- 0.515\n",
    "- 0.715\n",
    "- **0.995**"
   ]
  },
  {
   "cell_type": "markdown",
   "id": "71c19042-f311-4300-a248-771e4716d143",
   "metadata": {},
   "source": [
    "R/ The answer is 0.995, no doubt there is data leakage from features like expenditures and share, how can I have data about anual expenditures about my credit card before it is given to me?, do they have data from other card providers before or was this data collected after given the card and this is the reason the high AUC reported?"
   ]
  },
  {
   "cell_type": "code",
   "execution_count": 121,
   "id": "28465b58-1e1d-4b7e-b387-8443c938a137",
   "metadata": {},
   "outputs": [
    {
     "data": {
      "text/plain": [
       "[<matplotlib.lines.Line2D at 0x7f30936c1c10>]"
      ]
     },
     "execution_count": 121,
     "metadata": {},
     "output_type": "execute_result"
    },
    {
     "data": {
      "image/png": "[encoded data removed]",
      "text/plain": [
       "<Figure size 500x500 with 1 Axes>"
      ]
     },
     "metadata": {},
     "output_type": "display_data"
    }
   ],
   "source": [
    "plt.figure(figsize=(5,5))\n",
    "\n",
    "fpr, tpr, _ = roc_curve(y_val, y_pred)\n",
    "plt.plot(fpr, tpr)"
   ]
  },
  {
   "cell_type": "markdown",
   "id": "b34e8696-7f7c-4188-a122-52986e14ac25",
   "metadata": {},
   "source": [
    "Almost the ideal model, **suspicious** because this doesn't happen in real life"
   ]
  },
  {
   "cell_type": "markdown",
   "id": "4c19ad4e-e87c-49ab-b129-c6e7ee0aab99",
   "metadata": {},
   "source": [
    "### Question 3\n",
    "Now let's compute precision and recall for our model.\n",
    "\n",
    "- Evaluate the model on the validation dataset on all thresholds from 0.0 to 1.0 with step 0.01\n",
    "- For each threshold, compute precision and recall\n",
    "- Plot them"
   ]
  },
  {
   "cell_type": "code",
   "execution_count": 134,
   "id": "1e75054f-afa9-411c-a984-e1fdba8691bc",
   "metadata": {},
   "outputs": [],
   "source": [
    "def confusion_matrix_dataframe(y_val, y_pred):\n",
    "    scores = []\n",
    "    \n",
    "    thresholds = np.linspace(0, 1, 101)\n",
    "    \n",
    "    for t in thresholds:\n",
    "        actual_positive = (y_val == 1)\n",
    "        actual_negative = (y_val == 0)\n",
    "        \n",
    "        predict_positive = (y_pred >= t)\n",
    "        predict_negative = (y_pred < t)\n",
    "        \n",
    "        tp = (predict_positive & actual_positive).sum()\n",
    "        tn = (predict_negative & actual_negative).sum()\n",
    "        \n",
    "        fp = (predict_positive & actual_negative).sum()\n",
    "        fn = (predict_negative & actual_positive).sum()\n",
    "        \n",
    "        scores.append((t, tp, fp, fn, tn))\n",
    "        \n",
    "    columns = ['threshold', 'tp', 'fp', 'fn', 'tn']\n",
    "    df_scores = pd.DataFrame(scores, columns=columns)\n",
    "    \n",
    "    return df_scores    "
   ]
  },
  {
   "cell_type": "code",
   "execution_count": 135,
   "id": "1e212d8a-c577-41b0-9bbf-162d302b1412",
   "metadata": {},
   "outputs": [],
   "source": [
    "df_scores = confusion_matrix_dataframe(y_val, y_pred)"
   ]
  },
  {
   "cell_type": "code",
   "execution_count": 136,
   "id": "c98ecf8a-f8b1-4769-b6ae-e4d63a73439e",
   "metadata": {},
   "outputs": [],
   "source": [
    "df_scores['p'] = df_scores.tp / (df_scores.tp + df_scores.fp)\n",
    "df_scores['r'] = df_scores.tp / (df_scores.tp + df_scores.fn)"
   ]
  },
  {
   "cell_type": "code",
   "execution_count": 137,
   "id": "65d3363a-225f-49ab-8bee-e69671273f4f",
   "metadata": {},
   "outputs": [
    {
     "data": {
      "text/html": [
       "<div>\n",
       "<style scoped>\n",
       "    .dataframe tbody tr th:only-of-type {\n",
       "        vertical-align: middle;\n",
       "    }\n",
       "\n",
       "    .dataframe tbody tr th {\n",
       "        vertical-align: top;\n",
       "    }\n",
       "\n",
       "    .dataframe thead th {\n",
       "        text-align: right;\n",
       "    }\n",
       "</style>\n",
       "<table border=\"1\" class=\"dataframe\">\n",
       "  <thead>\n",
       "    <tr style=\"text-align: right;\">\n",
       "      <th></th>\n",
       "      <th>threshold</th>\n",
       "      <th>tp</th>\n",
       "      <th>fp</th>\n",
       "      <th>fn</th>\n",
       "      <th>tn</th>\n",
       "      <th>p</th>\n",
       "      <th>r</th>\n",
       "    </tr>\n",
       "  </thead>\n",
       "  <tbody>\n",
       "    <tr>\n",
       "      <th>0</th>\n",
       "      <td>0.0</td>\n",
       "      <td>211</td>\n",
       "      <td>53</td>\n",
       "      <td>0</td>\n",
       "      <td>0</td>\n",
       "      <td>0.799242</td>\n",
       "      <td>1.000000</td>\n",
       "    </tr>\n",
       "    <tr>\n",
       "      <th>10</th>\n",
       "      <td>0.1</td>\n",
       "      <td>210</td>\n",
       "      <td>17</td>\n",
       "      <td>1</td>\n",
       "      <td>36</td>\n",
       "      <td>0.925110</td>\n",
       "      <td>0.995261</td>\n",
       "    </tr>\n",
       "    <tr>\n",
       "      <th>20</th>\n",
       "      <td>0.2</td>\n",
       "      <td>207</td>\n",
       "      <td>5</td>\n",
       "      <td>4</td>\n",
       "      <td>48</td>\n",
       "      <td>0.976415</td>\n",
       "      <td>0.981043</td>\n",
       "    </tr>\n",
       "    <tr>\n",
       "      <th>30</th>\n",
       "      <td>0.3</td>\n",
       "      <td>205</td>\n",
       "      <td>5</td>\n",
       "      <td>6</td>\n",
       "      <td>48</td>\n",
       "      <td>0.976190</td>\n",
       "      <td>0.971564</td>\n",
       "    </tr>\n",
       "    <tr>\n",
       "      <th>40</th>\n",
       "      <td>0.4</td>\n",
       "      <td>205</td>\n",
       "      <td>1</td>\n",
       "      <td>6</td>\n",
       "      <td>52</td>\n",
       "      <td>0.995146</td>\n",
       "      <td>0.971564</td>\n",
       "    </tr>\n",
       "    <tr>\n",
       "      <th>50</th>\n",
       "      <td>0.5</td>\n",
       "      <td>204</td>\n",
       "      <td>1</td>\n",
       "      <td>7</td>\n",
       "      <td>52</td>\n",
       "      <td>0.995122</td>\n",
       "      <td>0.966825</td>\n",
       "    </tr>\n",
       "    <tr>\n",
       "      <th>60</th>\n",
       "      <td>0.6</td>\n",
       "      <td>204</td>\n",
       "      <td>1</td>\n",
       "      <td>7</td>\n",
       "      <td>52</td>\n",
       "      <td>0.995122</td>\n",
       "      <td>0.966825</td>\n",
       "    </tr>\n",
       "    <tr>\n",
       "      <th>70</th>\n",
       "      <td>0.7</td>\n",
       "      <td>204</td>\n",
       "      <td>1</td>\n",
       "      <td>7</td>\n",
       "      <td>52</td>\n",
       "      <td>0.995122</td>\n",
       "      <td>0.966825</td>\n",
       "    </tr>\n",
       "    <tr>\n",
       "      <th>80</th>\n",
       "      <td>0.8</td>\n",
       "      <td>204</td>\n",
       "      <td>1</td>\n",
       "      <td>7</td>\n",
       "      <td>52</td>\n",
       "      <td>0.995122</td>\n",
       "      <td>0.966825</td>\n",
       "    </tr>\n",
       "    <tr>\n",
       "      <th>90</th>\n",
       "      <td>0.9</td>\n",
       "      <td>204</td>\n",
       "      <td>0</td>\n",
       "      <td>7</td>\n",
       "      <td>53</td>\n",
       "      <td>1.000000</td>\n",
       "      <td>0.966825</td>\n",
       "    </tr>\n",
       "    <tr>\n",
       "      <th>100</th>\n",
       "      <td>1.0</td>\n",
       "      <td>179</td>\n",
       "      <td>0</td>\n",
       "      <td>32</td>\n",
       "      <td>53</td>\n",
       "      <td>1.000000</td>\n",
       "      <td>0.848341</td>\n",
       "    </tr>\n",
       "  </tbody>\n",
       "</table>\n",
       "</div>"
      ],
      "text/plain": [
       "     threshold   tp  fp  fn  tn         p         r\n",
       "0          0.0  211  53   0   0  0.799242  1.000000\n",
       "10         0.1  210  17   1  36  0.925110  0.995261\n",
       "20         0.2  207   5   4  48  0.976415  0.981043\n",
       "30         0.3  205   5   6  48  0.976190  0.971564\n",
       "40         0.4  205   1   6  52  0.995146  0.971564\n",
       "50         0.5  204   1   7  52  0.995122  0.966825\n",
       "60         0.6  204   1   7  52  0.995122  0.966825\n",
       "70         0.7  204   1   7  52  0.995122  0.966825\n",
       "80         0.8  204   1   7  52  0.995122  0.966825\n",
       "90         0.9  204   0   7  53  1.000000  0.966825\n",
       "100        1.0  179   0  32  53  1.000000  0.848341"
      ]
     },
     "execution_count": 137,
     "metadata": {},
     "output_type": "execute_result"
    }
   ],
   "source": [
    "df_scores[::10]"
   ]
  },
  {
   "cell_type": "code",
   "execution_count": 138,
   "id": "0f96f4d2-6372-420d-8fd5-ef5baa3f6b8d",
   "metadata": {},
   "outputs": [
    {
     "data": {
      "text/plain": [
       "[<matplotlib.lines.Line2D at 0x7f3092fc4ca0>]"
      ]
     },
     "execution_count": 138,
     "metadata": {},
     "output_type": "execute_result"
    },
    {
     "data": {
      "image/png": "[encoded data removed]",
      "text/plain": [
       "<Figure size 640x480 with 1 Axes>"
      ]
     },
     "metadata": {},
     "output_type": "display_data"
    }
   ],
   "source": [
    "plt.plot(df_scores.threshold, df_scores.p)\n",
    "plt.plot(df_scores.threshold, df_scores.r)"
   ]
  },
  {
   "cell_type": "markdown",
   "id": "504da869-9ea8-4b40-9d3d-5d5ea3188326",
   "metadata": {},
   "source": [
    "At which threshold precision and recall curves intersect?\n",
    "\n",
    "* 0.1\n",
    "* **0.3**\n",
    "* 0.6\n",
    "* 0.8"
   ]
  },
  {
   "cell_type": "markdown",
   "id": "ed230e81-06f6-4623-987f-eb07d9c0c921",
   "metadata": {},
   "source": [
    "R/ The precision and recall intersect at a threshold around 0.3 or a little bit less."
   ]
  },
  {
   "cell_type": "markdown",
   "id": "64b52533-fad0-4741-80e7-030ce556cb65",
   "metadata": {},
   "source": [
    "### Question 4\n",
    "Precision and recall are conflicting - when one grows, the other goes down. That's why they are often combined into the F1 score - a metrics that takes into account both\n",
    "\n",
    "This is the formula for computing :\n",
    "\n",
    " \n",
    "\n",
    "Where  is precision and  is recall.\n",
    "\n",
    "Let's compute F1 for all thresholds from 0.0 to 1.0 with increment 0.01 using the validation set"
   ]
  },
  {
   "cell_type": "code",
   "execution_count": 139,
   "id": "0fe18639-9cad-489b-b256-a7c930901da3",
   "metadata": {},
   "outputs": [
    {
     "data": {
      "text/html": [
       "<div>\n",
       "<style scoped>\n",
       "    .dataframe tbody tr th:only-of-type {\n",
       "        vertical-align: middle;\n",
       "    }\n",
       "\n",
       "    .dataframe tbody tr th {\n",
       "        vertical-align: top;\n",
       "    }\n",
       "\n",
       "    .dataframe thead th {\n",
       "        text-align: right;\n",
       "    }\n",
       "</style>\n",
       "<table border=\"1\" class=\"dataframe\">\n",
       "  <thead>\n",
       "    <tr style=\"text-align: right;\">\n",
       "      <th></th>\n",
       "      <th>threshold</th>\n",
       "      <th>tp</th>\n",
       "      <th>fp</th>\n",
       "      <th>fn</th>\n",
       "      <th>tn</th>\n",
       "      <th>p</th>\n",
       "      <th>r</th>\n",
       "      <th>f1</th>\n",
       "    </tr>\n",
       "  </thead>\n",
       "  <tbody>\n",
       "    <tr>\n",
       "      <th>0</th>\n",
       "      <td>0.0</td>\n",
       "      <td>211</td>\n",
       "      <td>53</td>\n",
       "      <td>0</td>\n",
       "      <td>0</td>\n",
       "      <td>0.799242</td>\n",
       "      <td>1.000000</td>\n",
       "      <td>0.888421</td>\n",
       "    </tr>\n",
       "    <tr>\n",
       "      <th>10</th>\n",
       "      <td>0.1</td>\n",
       "      <td>210</td>\n",
       "      <td>17</td>\n",
       "      <td>1</td>\n",
       "      <td>36</td>\n",
       "      <td>0.925110</td>\n",
       "      <td>0.995261</td>\n",
       "      <td>0.958904</td>\n",
       "    </tr>\n",
       "    <tr>\n",
       "      <th>20</th>\n",
       "      <td>0.2</td>\n",
       "      <td>207</td>\n",
       "      <td>5</td>\n",
       "      <td>4</td>\n",
       "      <td>48</td>\n",
       "      <td>0.976415</td>\n",
       "      <td>0.981043</td>\n",
       "      <td>0.978723</td>\n",
       "    </tr>\n",
       "    <tr>\n",
       "      <th>30</th>\n",
       "      <td>0.3</td>\n",
       "      <td>205</td>\n",
       "      <td>5</td>\n",
       "      <td>6</td>\n",
       "      <td>48</td>\n",
       "      <td>0.976190</td>\n",
       "      <td>0.971564</td>\n",
       "      <td>0.973872</td>\n",
       "    </tr>\n",
       "    <tr>\n",
       "      <th>40</th>\n",
       "      <td>0.4</td>\n",
       "      <td>205</td>\n",
       "      <td>1</td>\n",
       "      <td>6</td>\n",
       "      <td>52</td>\n",
       "      <td>0.995146</td>\n",
       "      <td>0.971564</td>\n",
       "      <td>0.983213</td>\n",
       "    </tr>\n",
       "    <tr>\n",
       "      <th>50</th>\n",
       "      <td>0.5</td>\n",
       "      <td>204</td>\n",
       "      <td>1</td>\n",
       "      <td>7</td>\n",
       "      <td>52</td>\n",
       "      <td>0.995122</td>\n",
       "      <td>0.966825</td>\n",
       "      <td>0.980769</td>\n",
       "    </tr>\n",
       "    <tr>\n",
       "      <th>60</th>\n",
       "      <td>0.6</td>\n",
       "      <td>204</td>\n",
       "      <td>1</td>\n",
       "      <td>7</td>\n",
       "      <td>52</td>\n",
       "      <td>0.995122</td>\n",
       "      <td>0.966825</td>\n",
       "      <td>0.980769</td>\n",
       "    </tr>\n",
       "    <tr>\n",
       "      <th>70</th>\n",
       "      <td>0.7</td>\n",
       "      <td>204</td>\n",
       "      <td>1</td>\n",
       "      <td>7</td>\n",
       "      <td>52</td>\n",
       "      <td>0.995122</td>\n",
       "      <td>0.966825</td>\n",
       "      <td>0.980769</td>\n",
       "    </tr>\n",
       "    <tr>\n",
       "      <th>80</th>\n",
       "      <td>0.8</td>\n",
       "      <td>204</td>\n",
       "      <td>1</td>\n",
       "      <td>7</td>\n",
       "      <td>52</td>\n",
       "      <td>0.995122</td>\n",
       "      <td>0.966825</td>\n",
       "      <td>0.980769</td>\n",
       "    </tr>\n",
       "    <tr>\n",
       "      <th>90</th>\n",
       "      <td>0.9</td>\n",
       "      <td>204</td>\n",
       "      <td>0</td>\n",
       "      <td>7</td>\n",
       "      <td>53</td>\n",
       "      <td>1.000000</td>\n",
       "      <td>0.966825</td>\n",
       "      <td>0.983133</td>\n",
       "    </tr>\n",
       "    <tr>\n",
       "      <th>100</th>\n",
       "      <td>1.0</td>\n",
       "      <td>179</td>\n",
       "      <td>0</td>\n",
       "      <td>32</td>\n",
       "      <td>53</td>\n",
       "      <td>1.000000</td>\n",
       "      <td>0.848341</td>\n",
       "      <td>0.917949</td>\n",
       "    </tr>\n",
       "  </tbody>\n",
       "</table>\n",
       "</div>"
      ],
      "text/plain": [
       "     threshold   tp  fp  fn  tn         p         r        f1\n",
       "0          0.0  211  53   0   0  0.799242  1.000000  0.888421\n",
       "10         0.1  210  17   1  36  0.925110  0.995261  0.958904\n",
       "20         0.2  207   5   4  48  0.976415  0.981043  0.978723\n",
       "30         0.3  205   5   6  48  0.976190  0.971564  0.973872\n",
       "40         0.4  205   1   6  52  0.995146  0.971564  0.983213\n",
       "50         0.5  204   1   7  52  0.995122  0.966825  0.980769\n",
       "60         0.6  204   1   7  52  0.995122  0.966825  0.980769\n",
       "70         0.7  204   1   7  52  0.995122  0.966825  0.980769\n",
       "80         0.8  204   1   7  52  0.995122  0.966825  0.980769\n",
       "90         0.9  204   0   7  53  1.000000  0.966825  0.983133\n",
       "100        1.0  179   0  32  53  1.000000  0.848341  0.917949"
      ]
     },
     "execution_count": 139,
     "metadata": {},
     "output_type": "execute_result"
    }
   ],
   "source": [
    "df_scores['f1'] = 2 * df_scores.p * df_scores.r / (df_scores.p + df_scores.r)\n",
    "df_scores[::10]"
   ]
  },
  {
   "cell_type": "code",
   "execution_count": 140,
   "id": "f495a3ff-4f89-4a40-aa50-52702d4dde1e",
   "metadata": {},
   "outputs": [
    {
     "data": {
      "text/plain": [
       "[<matplotlib.lines.Line2D at 0x7f3092f3cd00>]"
      ]
     },
     "execution_count": 140,
     "metadata": {},
     "output_type": "execute_result"
    },
    {
     "data": {
      "image/png": "[encoded data removed]",
      "text/plain": [
       "<Figure size 640x480 with 1 Axes>"
      ]
     },
     "metadata": {},
     "output_type": "display_data"
    }
   ],
   "source": [
    "plt.plot(df_scores.threshold, df_scores.f1)"
   ]
  },
  {
   "cell_type": "code",
   "execution_count": 141,
   "id": "d8b47b6e-0c5a-4f78-b5cf-c7e4b1c7bfdc",
   "metadata": {},
   "outputs": [
    {
     "data": {
      "text/plain": [
       "35"
      ]
     },
     "execution_count": 141,
     "metadata": {},
     "output_type": "execute_result"
    }
   ],
   "source": [
    "df_scores.set_index('threshold').f1.argmax()"
   ]
  },
  {
   "cell_type": "markdown",
   "id": "3a724425-de35-461a-be4d-4a598b8952bd",
   "metadata": {},
   "source": [
    "At which threshold F1 is maximal?\n",
    "\n",
    "* 0.1\n",
    "* **0.4**\n",
    "* 0.6\n",
    "* 0.7"
   ]
  },
  {
   "cell_type": "markdown",
   "id": "9517c4e5-ced6-4302-bb0b-0b28d5181c97",
   "metadata": {},
   "source": [
    "R/ The maximum F1 is given at 0.35 threshold, from those in the answer we select 0.4"
   ]
  },
  {
   "cell_type": "markdown",
   "id": "aa58231c-e680-48e8-9a3b-a1c34c4a4622",
   "metadata": {},
   "source": [
    "### Question 5\n",
    "Use the KFold class from Scikit-Learn to evaluate our model on 5 different folds:\n",
    "\n",
    "KFold(n_splits=5, shuffle=True, random_state=1)\n",
    "- Iterate over different folds of df_full_train\n",
    "- Split the data into train and validation\n",
    "- Train the model on train with these parameters: LogisticRegression(solver='liblinear', C=1.0, max_iter=1000)\n",
    "- Use AUC to evaluate the model on validation\n",
    "\n"
   ]
  },
  {
   "cell_type": "code",
   "execution_count": 143,
   "id": "042e6fef-ae7e-4104-8e7d-a0aa165de6f9",
   "metadata": {},
   "outputs": [],
   "source": [
    "def train(df_train, y_train, C=1.0):\n",
    "    dicts = df_train[features].to_dict(orient='records')\n",
    "    \n",
    "    dv = DictVectorizer(sparse=False)\n",
    "    X_train = dv.fit_transform(dicts)\n",
    "    \n",
    "    model = LogisticRegression(solver='liblinear', C=1.0, max_iter=1000)\n",
    "    model.fit(X_train, y_train)\n",
    "    \n",
    "    return dv, model\n",
    "\n",
    "def predict(df, dv, model):\n",
    "    dicts = df[features].to_dict(orient='records')\n",
    "    \n",
    "    X = dv.transform(dicts)\n",
    "    y_pred = model.predict_proba(X)[:, 1]\n",
    "    \n",
    "    return y_pred"
   ]
  },
  {
   "cell_type": "code",
   "execution_count": 145,
   "id": "62cccc2c-33cc-4684-808a-469b9f09367c",
   "metadata": {},
   "outputs": [],
   "source": [
    "kfold = KFold(n_splits=5, shuffle=True, random_state=1)"
   ]
  },
  {
   "cell_type": "code",
   "execution_count": 147,
   "id": "ac50862d-d4fe-42b7-8eac-7316995f2a5d",
   "metadata": {},
   "outputs": [
    {
     "name": "stdout",
     "output_type": "stream",
     "text": [
      "0.996 +- 0.003\n"
     ]
    }
   ],
   "source": [
    "scores = []\n",
    "\n",
    "for train_idx, val_idx in kfold.split(df_full_train):\n",
    "    df_train = df_full_train.iloc[train_idx]\n",
    "    df_val = df_full_train.iloc[val_idx]\n",
    "    \n",
    "    y_train = df_train.card.values\n",
    "    y_val = df_val.card.values\n",
    "    \n",
    "    dv, model = train(df_train, y_train, C=1.0)\n",
    "    y_pred = predict(df_val, dv, model)\n",
    "    \n",
    "    auc = roc_auc_score(y_val, y_pred)\n",
    "    scores.append(auc)\n",
    "    \n",
    "print('%.3f +- %.3f' % (np.mean(scores), np.std(scores)))"
   ]
  },
  {
   "cell_type": "markdown",
   "id": "119b9569-d96a-493f-8e48-af0882169fb6",
   "metadata": {},
   "source": [
    "How large is standard devidation of the AUC scores across different folds?\n",
    "\n",
    "* **0.003**\n",
    "* 0.014\n",
    "* 0.09\n",
    "* 0.24"
   ]
  },
  {
   "cell_type": "markdown",
   "id": "6c444cc7-99dc-4ab0-858b-757ce55eeaf9",
   "metadata": {},
   "source": [
    "R/ The standard deviation of the AUC scores across the 5 folds is 0.003"
   ]
  },
  {
   "cell_type": "code",
   "execution_count": 148,
   "id": "2bb676c0-fb6f-426c-ae4a-6e275a3c0253",
   "metadata": {},
   "outputs": [
    {
     "data": {
      "text/plain": [
       "[0.9941860465116279,\n",
       " 0.9941176470588236,\n",
       " 0.9943346508563901,\n",
       " 0.9996107939802803,\n",
       " 1.0]"
      ]
     },
     "execution_count": 148,
     "metadata": {},
     "output_type": "execute_result"
    }
   ],
   "source": [
    "scores"
   ]
  },
  {
   "cell_type": "markdown",
   "id": "809a8144-ca24-413c-a1ca-4c84b7ac98ef",
   "metadata": {},
   "source": [
    "### Question 6\n",
    "Now let's use 5-Fold cross-validation to find the best parameter C\n",
    "\n",
    "- Iterate over the following C values: [0.01, 0.1, 1, 10]\n",
    "- Initialize KFold with the same parameters as previously\n",
    "- Use these parametes for the model: LogisticRegression(solver='liblinear', C=C, max_iter=1000)\n",
    "- Compute the mean score as well as the std (round the mean and std to 3 decimal digits)"
   ]
  },
  {
   "cell_type": "code",
   "execution_count": 152,
   "id": "a64d5c8f-aa9d-4bd7-96f6-ffa2bb5217c1",
   "metadata": {},
   "outputs": [
    {
     "name": "stdout",
     "output_type": "stream",
     "text": [
      "0.01: 0.996 +- 0.003\n",
      "0.1: 0.996 +- 0.003\n",
      "1: 0.996 +- 0.003\n",
      "10: 0.996 +- 0.003\n"
     ]
    }
   ],
   "source": [
    "kfold = KFold(n_splits=5, shuffle=True, random_state=1)\n",
    "\n",
    "for C in [0.01, 0.1, 1, 10]:\n",
    "\n",
    "    scores = []\n",
    "\n",
    "    for train_idx, val_idx in kfold.split(df_full_train):\n",
    "        df_train = df_full_train.iloc[train_idx]\n",
    "        df_val = df_full_train.iloc[val_idx]\n",
    "\n",
    "        y_train = df_train.card.values\n",
    "        y_val = df_val.card.values\n",
    "\n",
    "        dv, model = train(df_train, y_train, C=C)\n",
    "        y_pred = predict(df_val, dv, model)\n",
    "\n",
    "        auc = roc_auc_score(y_val, y_pred)\n",
    "        scores.append(auc)\n",
    "\n",
    "    print('%s: %.3f +- %.3f' % (C, np.mean(scores), np.std(scores)))"
   ]
  },
  {
   "cell_type": "markdown",
   "id": "c48fa892-8c72-459f-81d6-59ef31bb0ec4",
   "metadata": {},
   "source": [
    "Which C leads to the best mean score?\n",
    "\n",
    "* **0.01**\n",
    "* 0.1\n",
    "* 1\n",
    "* 10\n",
    "\n",
    "If you have ties, select the score with the lowest std. If you still have ties, select the smallest C"
   ]
  },
  {
   "cell_type": "markdown",
   "id": "434b88ae-08c3-431a-b483-d6330b31e9e6",
   "metadata": {},
   "source": [
    "R/ all have the same auc, so choosing the smallest C I select 0.01\n",
    "\n"
   ]
  },
  {
   "cell_type": "code",
   "execution_count": null,
   "id": "1aa2e4e3-20c7-4e85-a0fc-33f8b1e85925",
   "metadata": {},
   "outputs": [],
   "source": []
  }
 ],
 "metadata": {
  "kernelspec": {
   "display_name": "Python [conda env:ml-zoomcamp] *",
   "language": "python",
   "name": "conda-env-ml-zoomcamp-py"
  },
  "language_info": {
   "codemirror_mode": {
    "name": "ipython",
    "version": 3
   },
   "file_extension": ".py",
   "mimetype": "text/x-python",
   "name": "python",
   "nbconvert_exporter": "python",
   "pygments_lexer": "ipython3",
   "version": "3.9.13"
  }
 },
 "nbformat": 4,
 "nbformat_minor": 5
}
